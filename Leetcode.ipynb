{
  "nbformat": 4,
  "nbformat_minor": 0,
  "metadata": {
    "colab": {
      "provenance": [],
      "include_colab_link": true
    },
    "kernelspec": {
      "name": "python3",
      "display_name": "Python 3"
    },
    "language_info": {
      "name": "python"
    }
  },
  "cells": [
    {
      "cell_type": "markdown",
      "metadata": {
        "id": "view-in-github",
        "colab_type": "text"
      },
      "source": [
        "<a href=\"https://colab.research.google.com/github/tianhanl0/python-leetcode/blob/main/Leetcode.ipynb\" target=\"_parent\"><img src=\"https://colab.research.google.com/assets/colab-badge.svg\" alt=\"Open In Colab\"/></a>"
      ]
    },
    {
      "cell_type": "markdown",
      "source": [
        "<img src=\"https://external-content.duckduckgo.com/iu/?u=https%3A%2F%2Fcdn-images-1.medium.com%2Fmax%2F1600%2F0*GePc7lo4CF4A3guP.png&f=1&nofb=1\" width=\"50%\" />\n",
        "\n",
        "Name: Tianhan Ling\n",
        "\n",
        "Andrew ID: tianhanl\n",
        "\n",
        "Use any library in Python Standard Library or any other library in PyPI to solve these LeetCode problems.\n",
        "\n",
        "Unlike Leetcode, our testing is limited so make "
      ],
      "metadata": {
        "id": "br3zmBgGvqi6"
      }
    },
    {
      "cell_type": "markdown",
      "source": [
        "## Container With Most Water\n",
        "Solve the Leetcode problem described [here](https://leetcode.com/problems/container-with-most-water/)."
      ],
      "metadata": {
        "id": "0rEeYXq-vuIP"
      }
    },
    {
      "cell_type": "code",
      "source": [
        "# INSERT CODE HERE\n",
        "def maxArea(height):\n",
        "  \"\"\"\n",
        "  :type height: list[int]\n",
        "  :rtype: int\n",
        "  \"\"\"\n",
        "  left = 0\n",
        "  right = len(height)-1\n",
        "  res = 0\n",
        "  while left < right:\n",
        "      if height[left] < height[right]:\n",
        "          vol = height[left]*(right-left)\n",
        "          left += 1\n",
        "      else:\n",
        "          vol = height[right]*(right-left)\n",
        "          right -=1\n",
        "      if vol > res:\n",
        "          res = vol\n",
        "  return res\n",
        "  raise NotImplementedError()\n",
        "\n",
        "height = [1,8,6,2,5,4,8,3,7]\n",
        "assert maxArea(height) == 49\n",
        "\n",
        "height = [1,1]\n",
        "assert maxArea(height) == 1"
      ],
      "metadata": {
        "id": "cMRgbcLGvuRm"
      },
      "execution_count": 1,
      "outputs": []
    },
    {
      "cell_type": "markdown",
      "source": [
        "## Reverse Integer\n",
        "Solve the Leetcode problem described [here](https://leetcode.com/problems/reverse-integer/)."
      ],
      "metadata": {
        "id": "SnUDycLFvuYm"
      }
    },
    {
      "cell_type": "code",
      "source": [
        "# INSERT CODE HERE\n",
        "def reverse(x):\n",
        "  \"\"\"\n",
        "  :type x: int\n",
        "  :rtype: int\n",
        "  \"\"\"\n",
        "  if x >= 0:\n",
        "      x = int(str(x)[::-1])\n",
        "  else:\n",
        "      x = -int(str(-x)[::-1])\n",
        "  if -2**31 <= x <= 2**31-1:\n",
        "      return x\n",
        "  else:\n",
        "      return 0\n",
        "  raise NotImplementedError()\n",
        "\n",
        "x = 123\n",
        "assert reverse(x) == 321\n",
        "\n",
        "x = -123\n",
        "assert reverse(x) == -321\n",
        "\n",
        "x = 120\n",
        "assert reverse(x) == 21"
      ],
      "metadata": {
        "id": "Wp15mhB1vuee"
      },
      "execution_count": 2,
      "outputs": []
    },
    {
      "cell_type": "markdown",
      "source": [
        "# Count and Say\n",
        "Solve the Leetcode problem described [here](https://leetcode.com/problems/count-and-say/)."
      ],
      "metadata": {
        "id": "UgA29uK_vuk2"
      }
    },
    {
      "cell_type": "code",
      "source": [
        "# INSERT CODE HERE\n",
        "def countAndSay(n):\n",
        "  \"\"\"\n",
        "  :type n: int\n",
        "  :rtype: str\n",
        "  \"\"\"\n",
        "    #base case\n",
        "  say = \"1\"\n",
        "  #count and say for n-1 times\n",
        "  for _ in range(n-1):\n",
        "    cou = say[0]\n",
        "    #creat a temp to save string \n",
        "    temp = \"\"\n",
        "    count = 0\n",
        "    for i in say:\n",
        "      if i == cou:\n",
        "        count += 1\n",
        "      else:\n",
        "        temp += str(count) + cou\n",
        "        cou = i\n",
        "        count = 1\n",
        "    temp += str(count) + cou\n",
        "    say = temp\n",
        "  return say\n",
        "  raise NotImplementedError()\n",
        "\n",
        "n = 4\n",
        "assert countAndSay(n) == '1211'\n",
        "\n",
        "n = 1\n",
        "assert countAndSay(n) == '1'"
      ],
      "metadata": {
        "id": "XbC1mzhbvurh"
      },
      "execution_count": 5,
      "outputs": []
    }
  ]
}